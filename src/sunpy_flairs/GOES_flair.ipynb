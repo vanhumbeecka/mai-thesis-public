{
 "cells": [
  {
   "cell_type": "code",
   "execution_count": 1,
   "metadata": {},
   "outputs": [],
   "source": [
    "from sunpy.net import Fido\n",
    "from sunpy.net import attrs as a"
   ]
  },
  {
   "cell_type": "code",
   "execution_count": null,
   "metadata": {},
   "outputs": [],
   "source": [
    "\n",
    "\n",
    "event_type = \"FL\"\n",
    "tstart = \"2011/10/01\"\n",
    "tend = \"2018/12/31\"\n",
    "\n",
    "result = Fido.search(a.Time(tstart, tend),\n",
    "                     a.hek.EventType(event_type),\n",
    "                     a.hek.FL.GOESCls > \"C1.0\",\n",
    "                     a.hek.Event.Coord1 < 800,\n",
    "                     a.hek.OBS.Observatory == \"GOES\")\n",
    "\n",
    "\n",
    "# Here we only show two columns due there being over 100 columns returned normally.\n",
    "# print(result.show(\"hpc_bbox\", \"refs\"))\n",
    "\n",
    "# It\"s also possible to access the HEK results from the\n",
    "# `~sunpy.net.fido_factory.UnifiedResponse` by name.\n",
    "hek_results = result[\"hek\"]\n",
    "\n",
    "# keywords\n",
    "#print(hek_results.colnames[::10])\n",
    "# print(result[\"hek\"][\"fl_peakflux\"])\n",
    "\n",
    "filtered_results = hek_results[\"kb_archivid\", \"event_starttime\", \"event_peaktime\",\n",
    "                               \"event_endtime\", \"fl_goescls\", \"ar_noaanum\", \"event_coord1\", \"event_coord2\", \"event_coord3\"]\n",
    "\n",
    "\n",
    "# by_magnitude = sorted(filtered_results, key=lambda x: ord(x['fl_goescls'][0]) + float(x['fl_goescls'][1:]), reverse=True)\n",
    "\n",
    "#for flare in by_magnitude:\n",
    "#    print(flare['fl_goescls'], flare['event_starttime'])\n",
    "\n",
    "filtered_results.write(\"flares_GOES.csv\", format=\"csv\", overwrite=True)\n"
   ]
  },
  {
   "cell_type": "code",
   "execution_count": 27,
   "metadata": {},
   "outputs": [
    {
     "name": "stdout",
     "output_type": "stream",
     "text": [
      "[]\n"
     ]
    }
   ],
   "source": [
    "import pandas as pd\n",
    "\n",
    "# event_type = \"FL\"\n",
    "# tstart = \"2011/10/01\"\n",
    "# tend = \"2012/10/02\"\n",
    "# result = Fido.search(a.Time(tstart, tend),\n",
    "#                      a.hek.EventType(event_type),\n",
    "#                      a.hek.FL.GOESCls > \"M1.0\",\n",
    "#                      a.hek.OBS.Observatory == \"GOES\")\n",
    "\n",
    "# hek_results = result[\"hek\"]\n",
    "\n",
    "archive_id = list(hek_results['kb_archivid'])\n",
    "\n",
    "def find_non_unique_items(lst):\n",
    "    return list({x for x in lst if lst.count(x) > 1})\n",
    "\n",
    "# archive_id_counts = pd.Series(archive_id).value_counts().where(lambda x : x > 1).dropna()\n",
    "print(find_non_unique_items(archive_id))\n",
    "\n",
    "\n",
    "# keywords\n",
    "#print(hek_results.colnames[::10])\n",
    "# print(result[\"hek\"][\"fl_peakflux\"])\n",
    "\n",
    "# filtered_results = hek_results[\"hpc_bbox\", \"event_starttime\", \"event_peaktime\", \"event_endtime\", \"fl_goescls\", \"ar_noaanum\", \"event_coord1\", \"event_coord2\", \"event_coord3\"]\n",
    "\n",
    "# filtered_results\n",
    "# hek_results[\"hgs_coord\", \"event_coord1\", \"event_coord2\", \"event_coord3\"]\n",
    "# filtered_results.write(\"flares_GOES_20131028.csv\", format=\"csv\")"
   ]
  },
  {
   "cell_type": "code",
   "execution_count": 8,
   "metadata": {},
   "outputs": [
    {
     "data": {
      "text/plain": [
       "(80, -86, 32, -28)"
      ]
     },
     "execution_count": 8,
     "metadata": {},
     "output_type": "execute_result"
    }
   ],
   "source": [
    "import math\n",
    "# filtered_results\n",
    "hek_results[\"hgs_coord\", \"event_coord1\", \"event_coord2\", \"event_coord3\"]\n",
    "coord1 = list(hek_results[\"event_coord1\"])\n",
    "coord2 = list(hek_results[\"event_coord2\"])\n",
    "coord3 = list(hek_results[\"event_coord3\"])\n",
    "max(coord1), min(coord1), max(coord2), min(coord2)"
   ]
  },
  {
   "cell_type": "code",
   "execution_count": null,
   "metadata": {},
   "outputs": [],
   "source": []
  },
  {
   "cell_type": "markdown",
   "metadata": {},
   "source": [
    "## Reload CSV file"
   ]
  },
  {
   "cell_type": "code",
   "execution_count": 15,
   "metadata": {},
   "outputs": [
    {
     "name": "stdout",
     "output_type": "stream",
     "text": [
      "event_starttime    datetime64[ns, UTC]\n",
      "event_peaktime     datetime64[ns, UTC]\n",
      "event_endtime      datetime64[ns, UTC]\n",
      "fl_goescls                      object\n",
      "ar_noaanum                       int64\n",
      "event_coord1                     int64\n",
      "event_coord2                     int64\n",
      "event_coord3                   float64\n",
      "dtype: object\n"
     ]
    },
    {
     "data": {
      "text/html": [
       "<div>\n",
       "<style scoped>\n",
       "    .dataframe tbody tr th:only-of-type {\n",
       "        vertical-align: middle;\n",
       "    }\n",
       "\n",
       "    .dataframe tbody tr th {\n",
       "        vertical-align: top;\n",
       "    }\n",
       "\n",
       "    .dataframe thead th {\n",
       "        text-align: right;\n",
       "    }\n",
       "</style>\n",
       "<table border=\"1\" class=\"dataframe\">\n",
       "  <thead>\n",
       "    <tr style=\"text-align: right;\">\n",
       "      <th></th>\n",
       "      <th>event_starttime</th>\n",
       "      <th>event_peaktime</th>\n",
       "      <th>event_endtime</th>\n",
       "      <th>fl_goescls</th>\n",
       "      <th>ar_noaanum</th>\n",
       "      <th>event_coord1</th>\n",
       "      <th>event_coord2</th>\n",
       "      <th>event_coord3</th>\n",
       "    </tr>\n",
       "  </thead>\n",
       "  <tbody>\n",
       "    <tr>\n",
       "      <th>0</th>\n",
       "      <td>2011-10-01 03:50:00+00:00</td>\n",
       "      <td>2011-10-01 03:50:00+00:00</td>\n",
       "      <td>2011-10-01 03:50:00+00:00</td>\n",
       "      <td>C1.3</td>\n",
       "      <td>11305</td>\n",
       "      <td>0</td>\n",
       "      <td>0</td>\n",
       "      <td>NaN</td>\n",
       "    </tr>\n",
       "    <tr>\n",
       "      <th>1</th>\n",
       "      <td>2011-10-01 04:44:00+00:00</td>\n",
       "      <td>2011-10-01 04:44:00+00:00</td>\n",
       "      <td>2011-10-01 04:44:00+00:00</td>\n",
       "      <td>C4.1</td>\n",
       "      <td>11302</td>\n",
       "      <td>0</td>\n",
       "      <td>0</td>\n",
       "      <td>NaN</td>\n",
       "    </tr>\n",
       "    <tr>\n",
       "      <th>2</th>\n",
       "      <td>2011-10-01 08:56:00+00:00</td>\n",
       "      <td>2011-10-01 08:56:00+00:00</td>\n",
       "      <td>2011-10-01 08:56:00+00:00</td>\n",
       "      <td>M1.2</td>\n",
       "      <td>11305</td>\n",
       "      <td>6</td>\n",
       "      <td>10</td>\n",
       "      <td>NaN</td>\n",
       "    </tr>\n",
       "    <tr>\n",
       "      <th>3</th>\n",
       "      <td>2011-10-02 00:37:00+00:00</td>\n",
       "      <td>2011-10-02 00:37:00+00:00</td>\n",
       "      <td>2011-10-02 00:37:00+00:00</td>\n",
       "      <td>M3.9</td>\n",
       "      <td>11305</td>\n",
       "      <td>12</td>\n",
       "      <td>9</td>\n",
       "      <td>NaN</td>\n",
       "    </tr>\n",
       "    <tr>\n",
       "      <th>4</th>\n",
       "      <td>2011-10-02 03:10:00+00:00</td>\n",
       "      <td>2011-10-02 03:10:00+00:00</td>\n",
       "      <td>2011-10-02 03:10:00+00:00</td>\n",
       "      <td>C1.5</td>\n",
       "      <td>11302</td>\n",
       "      <td>0</td>\n",
       "      <td>0</td>\n",
       "      <td>NaN</td>\n",
       "    </tr>\n",
       "  </tbody>\n",
       "</table>\n",
       "</div>"
      ],
      "text/plain": [
       "            event_starttime            event_peaktime  \\\n",
       "0 2011-10-01 03:50:00+00:00 2011-10-01 03:50:00+00:00   \n",
       "1 2011-10-01 04:44:00+00:00 2011-10-01 04:44:00+00:00   \n",
       "2 2011-10-01 08:56:00+00:00 2011-10-01 08:56:00+00:00   \n",
       "3 2011-10-02 00:37:00+00:00 2011-10-02 00:37:00+00:00   \n",
       "4 2011-10-02 03:10:00+00:00 2011-10-02 03:10:00+00:00   \n",
       "\n",
       "              event_endtime fl_goescls  ar_noaanum  event_coord1  \\\n",
       "0 2011-10-01 03:50:00+00:00       C1.3       11305             0   \n",
       "1 2011-10-01 04:44:00+00:00       C4.1       11302             0   \n",
       "2 2011-10-01 08:56:00+00:00       M1.2       11305             6   \n",
       "3 2011-10-02 00:37:00+00:00       M3.9       11305            12   \n",
       "4 2011-10-02 03:10:00+00:00       C1.5       11302             0   \n",
       "\n",
       "   event_coord2  event_coord3  \n",
       "0             0           NaN  \n",
       "1             0           NaN  \n",
       "2            10           NaN  \n",
       "3             9           NaN  \n",
       "4             0           NaN  "
      ]
     },
     "execution_count": 15,
     "metadata": {},
     "output_type": "execute_result"
    }
   ],
   "source": [
    "import pandas as pd\n",
    "\n",
    "df = pd.read_csv(\"flares_GOES.csv\")\n",
    "df['event_starttime'] = pd.to_datetime(df['event_starttime'], utc=True)\n",
    "df['event_peaktime'] = pd.to_datetime(df['event_starttime'], utc=True)\n",
    "df['event_endtime'] = pd.to_datetime(df['event_starttime'], utc=True)\n",
    "\n",
    "print(df.dtypes)\n",
    "df.head()"
   ]
  },
  {
   "cell_type": "code",
   "execution_count": 18,
   "metadata": {},
   "outputs": [
    {
     "data": {
      "image/png": "[encoded data removed]",
      "text/plain": [
       "<Figure size 500x300 with 1 Axes>"
      ]
     },
     "metadata": {},
     "output_type": "display_data"
    }
   ],
   "source": [
    "import matplotlib.pyplot as plt\n",
    "\n",
    "df['clss'] = df['fl_goescls'].str[0]\n",
    "df.value_counts('clss').plot(kind='barh', width=0.8, figsize=(5, 3))\n",
    "\n",
    "plt.xlabel('Number of Flares in HEK dataset')\n",
    "plt.ylabel('Class Type')\n",
    "plt.title('Count by Class Types')\n",
    "\n",
    "# Add individual numbers to the barplot\n",
    "for i, v in enumerate(df.value_counts('clss')):\n",
    "    plt.text(v + 3, i, str(v), color='blue')\n",
    "\n",
    "plt.tight_layout()\n",
    "plt.show()"
   ]
  },
  {
   "cell_type": "code",
   "execution_count": null,
   "metadata": {},
   "outputs": [],
   "source": []
  }
 ],
 "metadata": {
  "kernelspec": {
   "display_name": "ml",
   "language": "python",
   "name": "python3"
  },
  "language_info": {
   "codemirror_mode": {
    "name": "ipython",
    "version": 3
   },
   "file_extension": ".py",
   "mimetype": "text/x-python",
   "name": "python",
   "nbconvert_exporter": "python",
   "pygments_lexer": "ipython3",
   "version": "3.11.5"
  }
 },
 "nbformat": 4,
 "nbformat_minor": 2
}
