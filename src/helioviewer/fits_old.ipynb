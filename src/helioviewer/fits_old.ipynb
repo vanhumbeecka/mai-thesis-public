{
 "cells": [
  {
   "cell_type": "code",
   "execution_count": null,
   "metadata": {},
   "outputs": [],
   "source": [
    "!pip install astropy"
   ]
  },
  {
   "cell_type": "code",
   "execution_count": 33,
   "metadata": {},
   "outputs": [
    {
     "name": "stdout",
     "output_type": "stream",
     "text": [
      "Filename: ../../data/fits/go1420100101.fits\n",
      "No.    Name      Ver    Type      Cards   Dimensions   Format\n",
      "  0  PRIMARY       1 PrimaryHDU      25   ()      \n",
      "  1  EDGES         1 BinTableHDU     18   1R x 1C   [4E]   \n",
      "  2  FLUXES        1 BinTableHDU     32   1R x 2C   [42188D, 84376E]   \n",
      "  3  STATUS        1 BinTableHDU     30   1R x 2C   [1E, 2E]   \n"
     ]
    }
   ],
   "source": [
    "from astropy.io import fits\n",
    "from matplotlib import use\n",
    "\n",
    "data_path = '../../data/fits/go1420100101.fits'\n",
    "\n",
    "use_fsspec = False\n",
    "with fits.open(data_path, use_fsspec=use_fsspec) as hdul:\n",
    "    hdul.info()"
   ]
  },
  {
   "cell_type": "code",
   "execution_count": 42,
   "metadata": {},
   "outputs": [
    {
     "data": {
      "text/plain": [
       "XTENSION= 'BINTABLE'           /Written by IDL:  Mon Jun 25 18:41:15 2012       \n",
       "BITPIX  =                    8 /                                                \n",
       "NAXIS   =                    2 /Binary table                                    \n",
       "NAXIS1  =                   16 /Number of bytes per row                         \n",
       "NAXIS2  =                    1 /Number of rows                                  \n",
       "PCOUNT  =                    0 /Random parameter count                          \n",
       "GCOUNT  =                    1 /Group count                                     \n",
       "TFIELDS =                    1 /Number of columns                               \n",
       "EXTNAME = 'EDGES   '           /name of this binary extension                   \n",
       "DATE    = '25/06/2012'         /file creation date                              \n",
       "TELESCOP= 'GOES 14 '           /spacecraft                                      \n",
       "INSTRUME= 'X-ray Detector'     /                                                \n",
       "OBJECT  = 'Sun     '           /                                                \n",
       "ORIGIN  = 'SDAC/GSFC'          /written by Solar DAC at GSFC                    \n",
       "TFORM1  = '4E      '           /Real*4 (floating point)                         \n",
       "TTYPE1  = 'EDGES   '           /Label for column 1                              \n",
       "TDIM1   = '(2,2)   '           /Array dimensions for column 1                   \n",
       "TUNIT1  = 'angstrom'           /Units of column 1                               "
      ]
     },
     "execution_count": 42,
     "metadata": {},
     "output_type": "execute_result"
    }
   ],
   "source": [
    "hdul = fits.open(data_path)\n",
    "hdul[1].header"
   ]
  },
  {
   "cell_type": "code",
   "execution_count": 46,
   "metadata": {},
   "outputs": [
    {
     "data": {
      "text/plain": [
       "16"
      ]
     },
     "execution_count": 46,
     "metadata": {},
     "output_type": "execute_result"
    }
   ],
   "source": [
    "hdul[1].header['NAXIS1']"
   ]
  },
  {
   "cell_type": "code",
   "execution_count": 63,
   "metadata": {},
   "outputs": [
    {
     "name": "stdout",
     "output_type": "stream",
     "text": [
      "ColDefs(\n",
      "    name = 'EDGES'; format = '4E'; unit = 'angstrom'; dim = '(2,2)'\n",
      ")\n"
     ]
    }
   ],
   "source": [
    "cols = hdul[1].columns\n",
    "print(cols) # TODO: What is format '4A'?"
   ]
  },
  {
   "cell_type": "code",
   "execution_count": 71,
   "metadata": {},
   "outputs": [
    {
     "data": {
      "text/html": [
       "<div><i>Table length=1</i>\n",
       "<table id=\"table140579966250592\" class=\"table-striped table-bordered table-condensed\">\n",
       "<thead><tr><th>EDGES</th></tr></thead>\n",
       "<thead><tr><th>Angstrom</th></tr></thead>\n",
       "<thead><tr><th>float32[2,2]</th></tr></thead>\n",
       "<tr><td>1.0 .. 4.0</td></tr>\n",
       "</table></div>"
      ],
      "text/plain": [
       "<Table length=1>\n",
       "   EDGES    \n",
       "  Angstrom  \n",
       "float32[2,2]\n",
       "------------\n",
       "  1.0 .. 4.0"
      ]
     },
     "execution_count": 71,
     "metadata": {},
     "output_type": "execute_result"
    }
   ],
   "source": [
    "from astropy.table import Table\n",
    "from astropy.utils.data import get_pkg_data_filename\n",
    "\n",
    "events = Table.read(hdul, format='fits', hdu=1)\n",
    "events"
   ]
  }
 ],
 "metadata": {
  "kernelspec": {
   "display_name": "kul",
   "language": "python",
   "name": "python3"
  },
  "language_info": {
   "codemirror_mode": {
    "name": "ipython",
    "version": 3
   },
   "file_extension": ".py",
   "mimetype": "text/x-python",
   "name": "python",
   "nbconvert_exporter": "python",
   "pygments_lexer": "ipython3",
   "version": "3.10.8"
  }
 },
 "nbformat": 4,
 "nbformat_minor": 2
}
